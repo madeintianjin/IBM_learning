{
  "metadata": {
    "language_info": {
      "file_extension": ".py",
      "mimetype": "text/x-python",
      "name": "python",
      "version": "3.10.2"
    },
    "kernelspec": {
      "name": "xeus-python",
      "display_name": "Python (XPython)",
      "language": "python"
    }
  },
  "nbformat_minor": 4,
  "nbformat": 4,
  "cells": [
    {
      "cell_type": "markdown",
      "source": "# Data Science Tools and Ecosystem",
      "metadata": {}
    },
    {
      "cell_type": "markdown",
      "source": "In this notebook, Data Science Tools and Ecosystem are summarized.",
      "metadata": {}
    },
    {
      "cell_type": "markdown",
      "source": "<strong>Objectives:</strong>\n* list data science languages\n* list data science libraries\n* a table of Data Science tools\n* arithmetic expression examples\n* multiply and add numbers\n* convert minutes to hours",
      "metadata": {}
    },
    {
      "cell_type": "markdown",
      "source": "Some of the popular languages that Data Scientists use are:\n1. Python\n2. R\n3. SQL\n4. Scala\n5. Julia\n6. Java\n7. C++",
      "metadata": {}
    },
    {
      "cell_type": "markdown",
      "source": "Some of the commonly used libraries used by Data Scientists include:\n1. Pandas\n2. Scikit-learn\n3. Tensorflow\n4. Keras\n5. Plotly\n6. PyTorch",
      "metadata": {}
    },
    {
      "cell_type": "markdown",
      "source": "| Data Science Tools| \n| --- |\n| RStudio |\n| Apache Spark |\n| TensorFlow | ",
      "metadata": {}
    },
    {
      "cell_type": "markdown",
      "source": "Below are a few examples of evaluating arithmetic expressions in Python:\n1. $**$, for exponentiation\n2. $//$, for integer division\n3. %, for modulus",
      "metadata": {}
    },
    {
      "cell_type": "markdown",
      "source": "This a simple arithmetic expression to mutiply then add integers",
      "metadata": {}
    },
    {
      "cell_type": "code",
      "source": "(3*4)+5",
      "metadata": {
        "trusted": true
      },
      "execution_count": 1,
      "outputs": [
        {
          "execution_count": 1,
          "output_type": "execute_result",
          "data": {
            "text/plain": "17"
          },
          "metadata": {}
        }
      ]
    },
    {
      "cell_type": "markdown",
      "source": "This will convert 200 minutes to hours by diving by 60",
      "metadata": {}
    },
    {
      "cell_type": "code",
      "source": "min = 200\nh=min//60\nm=min%60\nprint(min,'minutes','=',h,'hours',m,'minutes')",
      "metadata": {
        "trusted": true
      },
      "execution_count": 3,
      "outputs": [
        {
          "name": "stdout",
          "text": "200 minutes = 3 hours 20 minutes\n",
          "output_type": "stream"
        }
      ]
    },
    {
      "cell_type": "markdown",
      "source": "## Author\nYuxuan Dong",
      "metadata": {}
    }
  ]
}